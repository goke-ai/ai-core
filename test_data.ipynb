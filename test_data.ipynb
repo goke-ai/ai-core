{
 "cells": [
  {
   "cell_type": "code",
   "execution_count": 5,
   "metadata": {},
   "outputs": [
    {
     "data": {
      "text/html": [
       "<div>\n",
       "<style scoped>\n",
       "    .dataframe tbody tr th:only-of-type {\n",
       "        vertical-align: middle;\n",
       "    }\n",
       "\n",
       "    .dataframe tbody tr th {\n",
       "        vertical-align: top;\n",
       "    }\n",
       "\n",
       "    .dataframe thead th {\n",
       "        text-align: right;\n",
       "    }\n",
       "</style>\n",
       "<table border=\"1\" class=\"dataframe\">\n",
       "  <thead>\n",
       "    <tr style=\"text-align: right;\">\n",
       "      <th></th>\n",
       "      <th>id</th>\n",
       "      <th>name</th>\n",
       "      <th>grades.math.grade</th>\n",
       "      <th>grades.math.point</th>\n",
       "      <th>grades.science.grade</th>\n",
       "      <th>grades.science.point</th>\n",
       "      <th>grades.history.grade</th>\n",
       "      <th>grades.history.point</th>\n",
       "      <th>grades.english.grade</th>\n",
       "      <th>grades.english.point</th>\n",
       "    </tr>\n",
       "  </thead>\n",
       "  <tbody>\n",
       "    <tr>\n",
       "      <th>0</th>\n",
       "      <td>S001</td>\n",
       "      <td>John Doe</td>\n",
       "      <td>A</td>\n",
       "      <td>5</td>\n",
       "      <td>B</td>\n",
       "      <td>4</td>\n",
       "      <td>A</td>\n",
       "      <td>5</td>\n",
       "      <td>A</td>\n",
       "      <td>5</td>\n",
       "    </tr>\n",
       "    <tr>\n",
       "      <th>1</th>\n",
       "      <td>S002</td>\n",
       "      <td>Jane Smith</td>\n",
       "      <td>B</td>\n",
       "      <td>4</td>\n",
       "      <td>A</td>\n",
       "      <td>5</td>\n",
       "      <td>B</td>\n",
       "      <td>4</td>\n",
       "      <td>A</td>\n",
       "      <td>5</td>\n",
       "    </tr>\n",
       "    <tr>\n",
       "      <th>2</th>\n",
       "      <td>S003</td>\n",
       "      <td>Emily Johnson</td>\n",
       "      <td>C</td>\n",
       "      <td>3</td>\n",
       "      <td>B</td>\n",
       "      <td>4</td>\n",
       "      <td>C</td>\n",
       "      <td>3</td>\n",
       "      <td>B</td>\n",
       "      <td>4</td>\n",
       "    </tr>\n",
       "  </tbody>\n",
       "</table>\n",
       "</div>"
      ],
      "text/plain": [
       "     id           name grades.math.grade  grades.math.point  \\\n",
       "0  S001       John Doe                 A                  5   \n",
       "1  S002     Jane Smith                 B                  4   \n",
       "2  S003  Emily Johnson                 C                  3   \n",
       "\n",
       "  grades.science.grade  grades.science.point grades.history.grade  \\\n",
       "0                    B                     4                    A   \n",
       "1                    A                     5                    B   \n",
       "2                    B                     4                    C   \n",
       "\n",
       "   grades.history.point grades.english.grade  grades.english.point  \n",
       "0                     5                    A                     5  \n",
       "1                     4                    A                     5  \n",
       "2                     3                    B                     4  "
      ]
     },
     "execution_count": 5,
     "metadata": {},
     "output_type": "execute_result"
    }
   ],
   "source": [
    "import pandas as pd\n",
    "\n",
    "# JSON data\n",
    "json_data = {\n",
    "    \"students\": [\n",
    "        {\n",
    "            \"id\": \"S001\",\n",
    "            \"name\": \"John Doe\",\n",
    "            \"grades\": {\n",
    "                \"math\": {\"grade\": { \"grade\":\"A\", \"point\":5}, \"point\": 5},\n",
    "                \"science\": {\"grade\": \"B\", \"point\": 4},\n",
    "                \"history\": {\"grade\": { \"grade\":{ \"grade\":\"A\", \"point\":5}, \"point\":5}, \"point\": 5},\n",
    "                \"english\": {\"grade\": \"A\", \"point\": 5}\n",
    "            }\n",
    "        },\n",
    "        {\n",
    "            \"id\": \"S002\",\n",
    "            \"name\": \"Jane Smith\",\n",
    "            \"grades\": {\n",
    "                \"math\": {\"grade\": \"B\", \"point\": 4},\n",
    "                \"science\": {\"grade\": \"A\", \"point\": 5},\n",
    "                \"history\": {\"grade\": \"B\", \"point\": 4},\n",
    "                \"english\": {\"grade\": \"A\", \"point\": 5}\n",
    "            }\n",
    "        },\n",
    "        {\n",
    "            \"id\": \"S003\",\n",
    "            \"name\": \"Emily Johnson\",\n",
    "            \"grades\": {\n",
    "                \"math\": {\"grade\": \"C\", \"point\": 3},\n",
    "                \"science\": {\"grade\": \"B\", \"point\": 4},\n",
    "                \"history\": {\"grade\": \"C\", \"point\": 3},\n",
    "                \"english\": {\"grade\": \"B\", \"point\": 4}\n",
    "            }\n",
    "        }\n",
    "    ]\n",
    "}\n",
    "\n",
    "# Normalize the data and create a DataFrame\n",
    "df = pd.json_normalize(json_data, record_path=['students'])\n",
    "\n",
    "df"
   ]
  },
  {
   "cell_type": "code",
   "execution_count": 17,
   "metadata": {},
   "outputs": [
    {
     "data": {
      "text/html": [
       "<div>\n",
       "<style scoped>\n",
       "    .dataframe tbody tr th:only-of-type {\n",
       "        vertical-align: middle;\n",
       "    }\n",
       "\n",
       "    .dataframe tbody tr th {\n",
       "        vertical-align: top;\n",
       "    }\n",
       "\n",
       "    .dataframe thead th {\n",
       "        text-align: right;\n",
       "    }\n",
       "</style>\n",
       "<table border=\"1\" class=\"dataframe\">\n",
       "  <thead>\n",
       "    <tr style=\"text-align: right;\">\n",
       "      <th></th>\n",
       "      <th>name</th>\n",
       "      <th>math</th>\n",
       "      <th>science</th>\n",
       "      <th>history</th>\n",
       "      <th>english</th>\n",
       "    </tr>\n",
       "    <tr>\n",
       "      <th>id</th>\n",
       "      <th></th>\n",
       "      <th></th>\n",
       "      <th></th>\n",
       "      <th></th>\n",
       "      <th></th>\n",
       "    </tr>\n",
       "  </thead>\n",
       "  <tbody>\n",
       "    <tr>\n",
       "      <th>S001</th>\n",
       "      <td>John Doe</td>\n",
       "      <td>A</td>\n",
       "      <td>B</td>\n",
       "      <td>A</td>\n",
       "      <td>A</td>\n",
       "    </tr>\n",
       "    <tr>\n",
       "      <th>S002</th>\n",
       "      <td>Jane Smith</td>\n",
       "      <td>B</td>\n",
       "      <td>A</td>\n",
       "      <td>B</td>\n",
       "      <td>A</td>\n",
       "    </tr>\n",
       "    <tr>\n",
       "      <th>S003</th>\n",
       "      <td>Emily Johnson</td>\n",
       "      <td>C</td>\n",
       "      <td>B</td>\n",
       "      <td>C</td>\n",
       "      <td>B</td>\n",
       "    </tr>\n",
       "  </tbody>\n",
       "</table>\n",
       "</div>"
      ],
      "text/plain": [
       "               name math science history english\n",
       "id                                              \n",
       "S001       John Doe    A       B       A       A\n",
       "S002     Jane Smith    B       A       B       A\n",
       "S003  Emily Johnson    C       B       C       B"
      ]
     },
     "execution_count": 17,
     "metadata": {},
     "output_type": "execute_result"
    }
   ],
   "source": [
    "import pandas as pd\n",
    "\n",
    "# Python dictionary of students\n",
    "students_dict = {\n",
    "    \"S001\": {\n",
    "        \"name\": \"John Doe\",\n",
    "        \"grades\": {\n",
    "            \"math\": \"A\",\n",
    "            \"science\": \"B\",\n",
    "            \"history\": \"A\",\n",
    "            \"english\": \"A\"\n",
    "        }\n",
    "    },\n",
    "    \"S002\": {\n",
    "        \"name\": \"Jane Smith\",\n",
    "        \"grades\": {\n",
    "            \"math\": \"B\",\n",
    "            \"science\": \"A\",\n",
    "            \"history\": \"B\",\n",
    "            \"english\": \"A\"\n",
    "        }\n",
    "    },\n",
    "    \"S003\": {\n",
    "        \"name\": \"Emily Johnson\",\n",
    "        \"grades\": {\n",
    "            \"math\": \"C\",\n",
    "            \"science\": \"B\",\n",
    "            \"history\": \"C\",\n",
    "            \"english\": \"B\"\n",
    "        }\n",
    "    }\n",
    "}\n",
    "\n",
    "# Convert the nested dictionary to a DataFrame\n",
    "# First, flatten the dictionary\n",
    "data = []\n",
    "for student_id, info in students_dict.items():\n",
    "    data.append({\n",
    "        \"id\": student_id,\n",
    "        \"name\": info[\"name\"],\n",
    "        **info[\"grades\"]\n",
    "    })\n",
    "\n",
    "# Create the DataFrame\n",
    "df = pd.DataFrame(data)\n",
    "\n",
    "# Set the index to the student ID\n",
    "df.set_index('id', inplace=True)\n",
    "\n",
    "df"
   ]
  },
  {
   "cell_type": "code",
   "execution_count": 18,
   "metadata": {},
   "outputs": [
    {
     "data": {
      "text/html": [
       "<div>\n",
       "<style scoped>\n",
       "    .dataframe tbody tr th:only-of-type {\n",
       "        vertical-align: middle;\n",
       "    }\n",
       "\n",
       "    .dataframe tbody tr th {\n",
       "        vertical-align: top;\n",
       "    }\n",
       "\n",
       "    .dataframe thead th {\n",
       "        text-align: right;\n",
       "    }\n",
       "</style>\n",
       "<table border=\"1\" class=\"dataframe\">\n",
       "  <thead>\n",
       "    <tr style=\"text-align: right;\">\n",
       "      <th></th>\n",
       "      <th>name</th>\n",
       "      <th>math</th>\n",
       "      <th>science</th>\n",
       "      <th>history</th>\n",
       "      <th>english</th>\n",
       "      <th>math_points</th>\n",
       "      <th>science_points</th>\n",
       "      <th>history_points</th>\n",
       "      <th>english_points</th>\n",
       "    </tr>\n",
       "    <tr>\n",
       "      <th>id</th>\n",
       "      <th></th>\n",
       "      <th></th>\n",
       "      <th></th>\n",
       "      <th></th>\n",
       "      <th></th>\n",
       "      <th></th>\n",
       "      <th></th>\n",
       "      <th></th>\n",
       "      <th></th>\n",
       "    </tr>\n",
       "  </thead>\n",
       "  <tbody>\n",
       "    <tr>\n",
       "      <th>S001</th>\n",
       "      <td>John Doe</td>\n",
       "      <td>A</td>\n",
       "      <td>B</td>\n",
       "      <td>A</td>\n",
       "      <td>A</td>\n",
       "      <td>4</td>\n",
       "      <td>3</td>\n",
       "      <td>4</td>\n",
       "      <td>4</td>\n",
       "    </tr>\n",
       "    <tr>\n",
       "      <th>S002</th>\n",
       "      <td>Jane Smith</td>\n",
       "      <td>B</td>\n",
       "      <td>A</td>\n",
       "      <td>B</td>\n",
       "      <td>A</td>\n",
       "      <td>3</td>\n",
       "      <td>4</td>\n",
       "      <td>3</td>\n",
       "      <td>4</td>\n",
       "    </tr>\n",
       "    <tr>\n",
       "      <th>S003</th>\n",
       "      <td>Emily Johnson</td>\n",
       "      <td>C</td>\n",
       "      <td>B</td>\n",
       "      <td>C</td>\n",
       "      <td>B</td>\n",
       "      <td>2</td>\n",
       "      <td>3</td>\n",
       "      <td>2</td>\n",
       "      <td>3</td>\n",
       "    </tr>\n",
       "  </tbody>\n",
       "</table>\n",
       "</div>"
      ],
      "text/plain": [
       "               name math science history english  math_points  science_points  \\\n",
       "id                                                                              \n",
       "S001       John Doe    A       B       A       A            4               3   \n",
       "S002     Jane Smith    B       A       B       A            3               4   \n",
       "S003  Emily Johnson    C       B       C       B            2               3   \n",
       "\n",
       "      history_points  english_points  \n",
       "id                                    \n",
       "S001               4               4  \n",
       "S002               3               4  \n",
       "S003               2               3  "
      ]
     },
     "execution_count": 18,
     "metadata": {},
     "output_type": "execute_result"
    }
   ],
   "source": [
    "import pandas as pd\n",
    "\n",
    "# Existing DataFrame\n",
    "df = pd.DataFrame({\n",
    "    'id': ['S001', 'S002', 'S003'],\n",
    "    'name': ['John Doe', 'Jane Smith', 'Emily Johnson'],\n",
    "    'math': ['A', 'B', 'C'],\n",
    "    'science': ['B', 'A', 'B'],\n",
    "    'history': ['A', 'B', 'C'],\n",
    "    'english': ['A', 'A', 'B']\n",
    "}).set_index('id')\n",
    "\n",
    "# Define a mapping of grades to points\n",
    "grade_points = {\n",
    "    'A': 4,\n",
    "    'B': 3,\n",
    "    'C': 2,\n",
    "    'D': 1,\n",
    "    'F': 0\n",
    "}\n",
    "\n",
    "# Function to convert grades to points\n",
    "def convert_to_points(grade):\n",
    "    return grade_points.get(grade, 0)\n",
    "\n",
    "# Apply the function to each grade column\n",
    "for subject in ['math', 'science', 'history', 'english']:\n",
    "    df[subject + '_points'] = df[subject].apply(convert_to_points)\n",
    "\n",
    "df"
   ]
  },
  {
   "cell_type": "code",
   "execution_count": 48,
   "metadata": {},
   "outputs": [
    {
     "data": {
      "text/plain": [
       "<Axes: >"
      ]
     },
     "execution_count": 48,
     "metadata": {},
     "output_type": "execute_result"
    },
    {
     "data": {
      "image/png": "[encoded data removed]",
      "text/plain": [
       "<Figure size 640x480 with 1 Axes>"
      ]
     },
     "metadata": {},
     "output_type": "display_data"
    }
   ],
   "source": [
    "(df.loc[:,['math_points','science_points','history_points','english_points']]).plot.bar()"
   ]
  },
  {
   "cell_type": "code",
   "execution_count": 71,
   "metadata": {},
   "outputs": [
    {
     "data": {
      "text/plain": [
       "(array(['S001', 'S002', 'S003'], dtype=object), array([4, 3, 2]))"
      ]
     },
     "execution_count": 71,
     "metadata": {},
     "output_type": "execute_result"
    }
   ],
   "source": [
    "df.index.to_numpy(), df.math_points.to_numpy()\n"
   ]
  },
  {
   "cell_type": "code",
   "execution_count": 75,
   "metadata": {},
   "outputs": [
    {
     "data": {
      "text/plain": [
       "(['S001', 'S002', 'S003'], [4, 3, 2])"
      ]
     },
     "execution_count": 75,
     "metadata": {},
     "output_type": "execute_result"
    }
   ],
   "source": [
    "df.index.to_list(), df.math_points.to_list()"
   ]
  },
  {
   "cell_type": "code",
   "execution_count": 62,
   "metadata": {},
   "outputs": [
    {
     "data": {
      "text/plain": [
       "'{\"math_points\":{\"S001\":4,\"S002\":3,\"S003\":2},\"science_points\":{\"S001\":3,\"S002\":4,\"S003\":3}}'"
      ]
     },
     "execution_count": 62,
     "metadata": {},
     "output_type": "execute_result"
    }
   ],
   "source": [
    "df[['math_points','science_points']].to_json()"
   ]
  },
  {
   "cell_type": "code",
   "execution_count": 77,
   "metadata": {},
   "outputs": [
    {
     "data": {
      "text/plain": [
       "{'math_points': {'S001': 4, 'S002': 3, 'S003': 2},\n",
       " 'science_points': {'S001': 3, 'S002': 4, 'S003': 3}}"
      ]
     },
     "execution_count": 77,
     "metadata": {},
     "output_type": "execute_result"
    }
   ],
   "source": [
    "df[['math_points','science_points']].to_dict()"
   ]
  },
  {
   "cell_type": "code",
   "execution_count": 50,
   "metadata": {},
   "outputs": [
    {
     "data": {
      "text/plain": [
       "<Axes: xlabel='id'>"
      ]
     },
     "execution_count": 50,
     "metadata": {},
     "output_type": "execute_result"
    },
    {
     "data": {
      "image/png": "[encoded data removed]",
      "text/plain": [
       "<Figure size 640x480 with 1 Axes>"
      ]
     },
     "metadata": {},
     "output_type": "display_data"
    }
   ],
   "source": [
    "df.math_points.plot.bar()"
   ]
  }
 ],
 "metadata": {
  "kernelspec": {
   "display_name": "Python 3",
   "language": "python",
   "name": "python3"
  },
  "language_info": {
   "codemirror_mode": {
    "name": "ipython",
    "version": 3
   },
   "file_extension": ".py",
   "mimetype": "text/x-python",
   "name": "python",
   "nbconvert_exporter": "python",
   "pygments_lexer": "ipython3",
   "version": "3.10.12"
  }
 },
 "nbformat": 4,
 "nbformat_minor": 2
}
