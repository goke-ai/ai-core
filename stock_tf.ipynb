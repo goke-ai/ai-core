{
 "cells": [
  {
   "cell_type": "code",
   "execution_count": 1,
   "metadata": {},
   "outputs": [],
   "source": [
    "!pip install numpy pandas scipy matplotlib -q\n",
    "!pip install matplotlib seaborn -q\n",
    "!pip install yfinance -q\n",
    "!pip install tensorflow -q\n",
    "\n"
   ]
  },
  {
   "cell_type": "code",
   "execution_count": 2,
   "metadata": {},
   "outputs": [
    {
     "name": "stderr",
     "output_type": "stream",
     "text": [
      "2024-05-10 10:16:09.015869: I tensorflow/core/util/port.cc:113] oneDNN custom operations are on. You may see slightly different numerical results due to floating-point round-off errors from different computation orders. To turn them off, set the environment variable `TF_ENABLE_ONEDNN_OPTS=0`.\n",
      "2024-05-10 10:16:09.016266: I external/local_tsl/tsl/cuda/cudart_stub.cc:32] Could not find cuda drivers on your machine, GPU will not be used.\n",
      "2024-05-10 10:16:09.019504: I external/local_tsl/tsl/cuda/cudart_stub.cc:32] Could not find cuda drivers on your machine, GPU will not be used.\n",
      "2024-05-10 10:16:09.068467: I tensorflow/core/platform/cpu_feature_guard.cc:210] This TensorFlow binary is optimized to use available CPU instructions in performance-critical operations.\n",
      "To enable the following instructions: AVX2 AVX512F AVX512_VNNI FMA, in other operations, rebuild TensorFlow with the appropriate compiler flags.\n",
      "2024-05-10 10:16:10.128102: W tensorflow/compiler/tf2tensorrt/utils/py_utils.cc:38] TF-TRT Warning: Could not find TensorRT\n"
     ]
    }
   ],
   "source": [
    "import numpy as np\n",
    "import pandas as pd\n",
    "import matplotlib.pyplot as plt\n",
    "import yfinance as yf\n",
    "import tensorflow as tf"
   ]
  },
  {
   "cell_type": "code",
   "execution_count": 3,
   "metadata": {},
   "outputs": [],
   "source": [
    "facebookInfo = yf.Ticker(\"META\")"
   ]
  },
  {
   "cell_type": "code",
   "execution_count": 4,
   "metadata": {},
   "outputs": [
    {
     "data": {
      "text/plain": [
       "{'address1': '1 Meta Way',\n",
       " 'city': 'Menlo Park',\n",
       " 'state': 'CA',\n",
       " 'zip': '94025',\n",
       " 'country': 'United States',\n",
       " 'phone': '650 543 4800',\n",
       " 'website': 'https://investor.fb.com',\n",
       " 'industry': 'Internet Content & Information',\n",
       " 'industryKey': 'internet-content-information',\n",
       " 'industryDisp': 'Internet Content & Information',\n",
       " 'sector': 'Communication Services',\n",
       " 'sectorKey': 'communication-services',\n",
       " 'sectorDisp': 'Communication Services',\n",
       " 'longBusinessSummary': 'Meta Platforms, Inc. engages in the development of products that enable people to connect and share with friends and family through mobile devices, personal computers, virtual reality headsets, and wearables worldwide. It operates in two segments, Family of Apps and Reality Labs. The Family of Apps segment offers Facebook, which enables people to share, discuss, discover, and connect with interests; Instagram, a community for sharing photos, videos, and private messages, as well as feed, stories, reels, video, live, and shops; Messenger, a messaging application for people to connect with friends, family, communities, and businesses across platforms and devices through text, audio, and video calls; and WhatsApp, a messaging application that is used by people and businesses to communicate and transact privately. The Reality Labs segment provides augmented and virtual reality related products comprising consumer hardware, software, and content that help people feel connected, anytime, and anywhere. The company was formerly known as Facebook, Inc. and changed its name to Meta Platforms, Inc. in October 2021. The company was incorporated in 2004 and is headquartered in Menlo Park, California',\n",
       " 'fullTimeEmployees': 69329,\n",
       " 'companyOfficers': [{'maxAge': 1,\n",
       "   'name': 'Mr. Mark Elliot Zuckerberg',\n",
       "   'age': 39,\n",
       "   'title': 'Founder, Chairman & CEO',\n",
       "   'yearBorn': 1984,\n",
       "   'fiscalYear': 2023,\n",
       "   'totalPay': 24399968,\n",
       "   'exercisedValue': 0,\n",
       "   'unexercisedValue': 0},\n",
       "  {'maxAge': 1,\n",
       "   'name': 'Ms. Susan J. S. Li',\n",
       "   'age': 37,\n",
       "   'title': 'Chief Financial Officer',\n",
       "   'yearBorn': 1986,\n",
       "   'fiscalYear': 2023,\n",
       "   'totalPay': 1963161,\n",
       "   'exercisedValue': 0,\n",
       "   'unexercisedValue': 0},\n",
       "  {'maxAge': 1,\n",
       "   'name': 'Mr. Javier  Olivan',\n",
       "   'age': 46,\n",
       "   'title': 'Chief Operating Officer',\n",
       "   'yearBorn': 1977,\n",
       "   'fiscalYear': 2023,\n",
       "   'totalPay': 4065442,\n",
       "   'exercisedValue': 0,\n",
       "   'unexercisedValue': 0},\n",
       "  {'maxAge': 1,\n",
       "   'name': 'Mr. Andrew  Bosworth',\n",
       "   'age': 41,\n",
       "   'title': 'Chief Technology Officer',\n",
       "   'yearBorn': 1982,\n",
       "   'fiscalYear': 2023,\n",
       "   'totalPay': 2000988,\n",
       "   'exercisedValue': 0,\n",
       "   'unexercisedValue': 0},\n",
       "  {'maxAge': 1,\n",
       "   'name': 'Mr. Christopher K. Cox',\n",
       "   'age': 40,\n",
       "   'title': 'Chief Product Officer',\n",
       "   'yearBorn': 1983,\n",
       "   'fiscalYear': 2023,\n",
       "   'totalPay': 2013913,\n",
       "   'exercisedValue': 0,\n",
       "   'unexercisedValue': 0},\n",
       "  {'maxAge': 1,\n",
       "   'name': 'Mr. Aaron A. Anderson',\n",
       "   'title': 'Chief Accounting Officer',\n",
       "   'fiscalYear': 2023,\n",
       "   'exercisedValue': 0,\n",
       "   'unexercisedValue': 0},\n",
       "  {'maxAge': 1,\n",
       "   'name': 'Mr. Atish  Banerjea',\n",
       "   'age': 57,\n",
       "   'title': 'Chief Information Officer',\n",
       "   'yearBorn': 1966,\n",
       "   'fiscalYear': 2023,\n",
       "   'exercisedValue': 0,\n",
       "   'unexercisedValue': 0},\n",
       "  {'maxAge': 1,\n",
       "   'name': 'Ms. Deborah T. Crawford',\n",
       "   'title': 'Vice President of Investor Relations',\n",
       "   'fiscalYear': 2023,\n",
       "   'exercisedValue': 0,\n",
       "   'unexercisedValue': 0},\n",
       "  {'maxAge': 1,\n",
       "   'name': 'Ms. Jennifer G. Newstead',\n",
       "   'age': 53,\n",
       "   'title': 'Chief Legal Officer',\n",
       "   'yearBorn': 1970,\n",
       "   'fiscalYear': 2023,\n",
       "   'totalPay': 3079624,\n",
       "   'exercisedValue': 0,\n",
       "   'unexercisedValue': 0},\n",
       "  {'maxAge': 1,\n",
       "   'name': 'Mr. Henry T. A. Moniz',\n",
       "   'age': 58,\n",
       "   'title': 'Chief Compliance Officer',\n",
       "   'yearBorn': 1965,\n",
       "   'fiscalYear': 2023,\n",
       "   'exercisedValue': 0,\n",
       "   'unexercisedValue': 0}],\n",
       " 'auditRisk': 9,\n",
       " 'boardRisk': 10,\n",
       " 'compensationRisk': 10,\n",
       " 'shareHolderRightsRisk': 10,\n",
       " 'overallRisk': 10,\n",
       " 'governanceEpochDate': 1714521600,\n",
       " 'compensationAsOfEpochDate': 1703980800,\n",
       " 'maxAge': 86400,\n",
       " 'priceHint': 2,\n",
       " 'previousClose': 472.6,\n",
       " 'open': 470.0,\n",
       " 'dayLow': 467.655,\n",
       " 'dayHigh': 476.08,\n",
       " 'regularMarketPreviousClose': 472.6,\n",
       " 'regularMarketOpen': 470.0,\n",
       " 'regularMarketDayLow': 467.655,\n",
       " 'regularMarketDayHigh': 476.08,\n",
       " 'dividendRate': 2.0,\n",
       " 'dividendYield': 0.0042,\n",
       " 'exDividendDate': 1708473600,\n",
       " 'payoutRatio': 0.028800001,\n",
       " 'beta': 1.208,\n",
       " 'trailingPE': 27.385944,\n",
       " 'forwardPE': 22.102278,\n",
       " 'volume': 9151853,\n",
       " 'regularMarketVolume': 9151853,\n",
       " 'averageVolume': 16893222,\n",
       " 'averageVolume10days': 17428560,\n",
       " 'averageDailyVolume10Day': 17428560,\n",
       " 'bid': 475.29,\n",
       " 'ask': 475.55,\n",
       " 'bidSize': 100,\n",
       " 'askSize': 100,\n",
       " 'marketCap': 1205917057024,\n",
       " 'fiftyTwoWeekLow': 231.45,\n",
       " 'fiftyTwoWeekHigh': 531.49,\n",
       " 'priceToSalesTrailing12Months': 8.450005,\n",
       " 'fiftyDayAverage': 489.5938,\n",
       " 'twoHundredDayAverage': 379.6778,\n",
       " 'trailingAnnualDividendRate': 0.5,\n",
       " 'trailingAnnualDividendYield': 0.0010579771,\n",
       " 'currency': 'USD',\n",
       " 'enterpriseValue': 1185432076288,\n",
       " 'profitMargins': 0.32062998,\n",
       " 'floatShares': 2186467107,\n",
       " 'sharesOutstanding': 2191450112,\n",
       " 'sharesShort': 27026387,\n",
       " 'sharesShortPriorMonth': 29919225,\n",
       " 'sharesShortPreviousMonthDate': 1710460800,\n",
       " 'dateShortInterest': 1713139200,\n",
       " 'sharesPercentSharesOut': 0.0107,\n",
       " 'heldPercentInsiders': 0.00184,\n",
       " 'heldPercentInstitutions': 0.79885,\n",
       " 'shortRatio': 2.06,\n",
       " 'shortPercentOfFloat': 0.0124,\n",
       " 'impliedSharesOutstanding': 2599089920,\n",
       " 'bookValue': 58.939,\n",
       " 'priceToBook': 8.066306,\n",
       " 'lastFiscalYearEnd': 1703980800,\n",
       " 'nextFiscalYearEnd': 1735603200,\n",
       " 'mostRecentQuarter': 1711843200,\n",
       " 'earningsQuarterlyGrowth': 1.167,\n",
       " 'netIncomeToCommon': 45758001152,\n",
       " 'trailingEps': 17.36,\n",
       " 'forwardEps': 21.51,\n",
       " 'pegRatio': 0.9,\n",
       " 'enterpriseToRevenue': 8.306,\n",
       " 'enterpriseToEbitda': 17.319,\n",
       " '52WeekChange': 1.0333605,\n",
       " 'SandP52WeekChange': 0.26430142,\n",
       " 'lastDividendValue': 0.5,\n",
       " 'lastDividendDate': 1708473600,\n",
       " 'exchange': 'NMS',\n",
       " 'quoteType': 'EQUITY',\n",
       " 'symbol': 'META',\n",
       " 'underlyingSymbol': 'META',\n",
       " 'shortName': 'Meta Platforms, Inc.',\n",
       " 'longName': 'Meta Platforms, Inc.',\n",
       " 'firstTradeDateEpochUtc': 1337347800,\n",
       " 'timeZoneFullName': 'America/New_York',\n",
       " 'timeZoneShortName': 'EDT',\n",
       " 'uuid': 'e59f1c4f-b1aa-3d70-a8c3-eb59ff3e461b',\n",
       " 'messageBoardId': 'finmb_20765463',\n",
       " 'gmtOffSetMilliseconds': -14400000,\n",
       " 'currentPrice': 475.42,\n",
       " 'targetHighPrice': 551.6,\n",
       " 'targetLowPrice': 241.85,\n",
       " 'targetMeanPrice': 480.1,\n",
       " 'targetMedianPrice': 485.18,\n",
       " 'recommendationMean': 1.8,\n",
       " 'recommendationKey': 'buy',\n",
       " 'numberOfAnalystOpinions': 52,\n",
       " 'totalCash': 58119999488,\n",
       " 'totalCashPerShare': 22.913,\n",
       " 'ebitda': 68446998528,\n",
       " 'totalDebt': 37632999424,\n",
       " 'quickRatio': 2.546,\n",
       " 'currentRatio': 2.681,\n",
       " 'totalRevenue': 142711996416,\n",
       " 'debtToEquity': 25.168,\n",
       " 'revenuePerShare': 55.671,\n",
       " 'returnOnAssets': 0.17312999,\n",
       " 'returnOnEquity': 0.33361,\n",
       " 'freeCashflow': 35132125184,\n",
       " 'operatingCashflow': 76360998912,\n",
       " 'earningsGrowth': 1.141,\n",
       " 'revenueGrowth': 0.273,\n",
       " 'grossMargins': 0.81496,\n",
       " 'ebitdaMargins': 0.47962,\n",
       " 'operatingMargins': 0.38579,\n",
       " 'financialCurrency': 'USD',\n",
       " 'trailingPegRatio': 1.0995}"
      ]
     },
     "execution_count": 4,
     "metadata": {},
     "output_type": "execute_result"
    }
   ],
   "source": [
    "facebookInfo.info"
   ]
  },
  {
   "cell_type": "code",
   "execution_count": 5,
   "metadata": {},
   "outputs": [
    {
     "data": {
      "text/html": [
       "<div>\n",
       "<style scoped>\n",
       "    .dataframe tbody tr th:only-of-type {\n",
       "        vertical-align: middle;\n",
       "    }\n",
       "\n",
       "    .dataframe tbody tr th {\n",
       "        vertical-align: top;\n",
       "    }\n",
       "\n",
       "    .dataframe thead th {\n",
       "        text-align: right;\n",
       "    }\n",
       "</style>\n",
       "<table border=\"1\" class=\"dataframe\">\n",
       "  <thead>\n",
       "    <tr style=\"text-align: right;\">\n",
       "      <th></th>\n",
       "      <th>Open</th>\n",
       "      <th>High</th>\n",
       "      <th>Low</th>\n",
       "      <th>Close</th>\n",
       "      <th>Volume</th>\n",
       "      <th>Dividends</th>\n",
       "      <th>Stock Splits</th>\n",
       "    </tr>\n",
       "    <tr>\n",
       "      <th>Date</th>\n",
       "      <th></th>\n",
       "      <th></th>\n",
       "      <th></th>\n",
       "      <th></th>\n",
       "      <th></th>\n",
       "      <th></th>\n",
       "      <th></th>\n",
       "    </tr>\n",
       "  </thead>\n",
       "  <tbody>\n",
       "    <tr>\n",
       "      <th>2012-05-18 00:00:00-04:00</th>\n",
       "      <td>42.005431</td>\n",
       "      <td>44.952305</td>\n",
       "      <td>37.959724</td>\n",
       "      <td>38.189480</td>\n",
       "      <td>573576400</td>\n",
       "      <td>0.0</td>\n",
       "      <td>0.0</td>\n",
       "    </tr>\n",
       "    <tr>\n",
       "      <th>2012-05-21 00:00:00-04:00</th>\n",
       "      <td>36.491281</td>\n",
       "      <td>36.621144</td>\n",
       "      <td>32.965024</td>\n",
       "      <td>33.993931</td>\n",
       "      <td>168192700</td>\n",
       "      <td>0.0</td>\n",
       "      <td>0.0</td>\n",
       "    </tr>\n",
       "    <tr>\n",
       "      <th>2012-05-22 00:00:00-04:00</th>\n",
       "      <td>32.575438</td>\n",
       "      <td>33.554399</td>\n",
       "      <td>30.907208</td>\n",
       "      <td>30.967144</td>\n",
       "      <td>101786600</td>\n",
       "      <td>0.0</td>\n",
       "      <td>0.0</td>\n",
       "    </tr>\n",
       "    <tr>\n",
       "      <th>2012-05-23 00:00:00-04:00</th>\n",
       "      <td>31.336752</td>\n",
       "      <td>32.465554</td>\n",
       "      <td>31.326762</td>\n",
       "      <td>31.966084</td>\n",
       "      <td>73600000</td>\n",
       "      <td>0.0</td>\n",
       "      <td>0.0</td>\n",
       "    </tr>\n",
       "    <tr>\n",
       "      <th>2012-05-24 00:00:00-04:00</th>\n",
       "      <td>32.915078</td>\n",
       "      <td>33.174801</td>\n",
       "      <td>31.736328</td>\n",
       "      <td>32.994991</td>\n",
       "      <td>50237200</td>\n",
       "      <td>0.0</td>\n",
       "      <td>0.0</td>\n",
       "    </tr>\n",
       "  </tbody>\n",
       "</table>\n",
       "</div>"
      ],
      "text/plain": [
       "                                Open       High        Low      Close  \\\n",
       "Date                                                                    \n",
       "2012-05-18 00:00:00-04:00  42.005431  44.952305  37.959724  38.189480   \n",
       "2012-05-21 00:00:00-04:00  36.491281  36.621144  32.965024  33.993931   \n",
       "2012-05-22 00:00:00-04:00  32.575438  33.554399  30.907208  30.967144   \n",
       "2012-05-23 00:00:00-04:00  31.336752  32.465554  31.326762  31.966084   \n",
       "2012-05-24 00:00:00-04:00  32.915078  33.174801  31.736328  32.994991   \n",
       "\n",
       "                              Volume  Dividends  Stock Splits  \n",
       "Date                                                           \n",
       "2012-05-18 00:00:00-04:00  573576400        0.0           0.0  \n",
       "2012-05-21 00:00:00-04:00  168192700        0.0           0.0  \n",
       "2012-05-22 00:00:00-04:00  101786600        0.0           0.0  \n",
       "2012-05-23 00:00:00-04:00   73600000        0.0           0.0  \n",
       "2012-05-24 00:00:00-04:00   50237200        0.0           0.0  "
      ]
     },
     "execution_count": 5,
     "metadata": {},
     "output_type": "execute_result"
    }
   ],
   "source": [
    "# Let us  get historical stock prices for Facebook\n",
    "# covering the past few years.\n",
    "# max->maximum number of daily prices available\n",
    "# for Facebook.\n",
    "# Valid options are 1d, 5d, 1mo, 3mo, 6mo, 1y, 2y,\n",
    "# 5y, 10y and ytd.\n",
    "df = facebookInfo.history(period=\"max\")\n",
    "df.head()"
   ]
  },
  {
   "cell_type": "code",
   "execution_count": 6,
   "metadata": {},
   "outputs": [
    {
     "data": {
      "text/html": [
       "<div>\n",
       "<style scoped>\n",
       "    .dataframe tbody tr th:only-of-type {\n",
       "        vertical-align: middle;\n",
       "    }\n",
       "\n",
       "    .dataframe tbody tr th {\n",
       "        vertical-align: top;\n",
       "    }\n",
       "\n",
       "    .dataframe thead th {\n",
       "        text-align: right;\n",
       "    }\n",
       "</style>\n",
       "<table border=\"1\" class=\"dataframe\">\n",
       "  <thead>\n",
       "    <tr style=\"text-align: right;\">\n",
       "      <th></th>\n",
       "      <th>Open</th>\n",
       "      <th>High</th>\n",
       "      <th>Low</th>\n",
       "      <th>Close</th>\n",
       "      <th>Volume</th>\n",
       "      <th>Dividends</th>\n",
       "      <th>Stock Splits</th>\n",
       "    </tr>\n",
       "    <tr>\n",
       "      <th>Date</th>\n",
       "      <th></th>\n",
       "      <th></th>\n",
       "      <th></th>\n",
       "      <th></th>\n",
       "      <th></th>\n",
       "      <th></th>\n",
       "      <th></th>\n",
       "    </tr>\n",
       "  </thead>\n",
       "  <tbody>\n",
       "    <tr>\n",
       "      <th>2024-05-03 00:00:00-04:00</th>\n",
       "      <td>445.929993</td>\n",
       "      <td>454.170013</td>\n",
       "      <td>443.850006</td>\n",
       "      <td>451.959991</td>\n",
       "      <td>16489100</td>\n",
       "      <td>0.0</td>\n",
       "      <td>0.0</td>\n",
       "    </tr>\n",
       "    <tr>\n",
       "      <th>2024-05-06 00:00:00-04:00</th>\n",
       "      <td>455.579987</td>\n",
       "      <td>466.160004</td>\n",
       "      <td>453.339996</td>\n",
       "      <td>465.679993</td>\n",
       "      <td>15094600</td>\n",
       "      <td>0.0</td>\n",
       "      <td>0.0</td>\n",
       "    </tr>\n",
       "    <tr>\n",
       "      <th>2024-05-07 00:00:00-04:00</th>\n",
       "      <td>466.290009</td>\n",
       "      <td>471.529999</td>\n",
       "      <td>461.309998</td>\n",
       "      <td>468.239990</td>\n",
       "      <td>13406800</td>\n",
       "      <td>0.0</td>\n",
       "      <td>0.0</td>\n",
       "    </tr>\n",
       "    <tr>\n",
       "      <th>2024-05-08 00:00:00-04:00</th>\n",
       "      <td>463.500000</td>\n",
       "      <td>475.579987</td>\n",
       "      <td>463.000000</td>\n",
       "      <td>472.600006</td>\n",
       "      <td>11683900</td>\n",
       "      <td>0.0</td>\n",
       "      <td>0.0</td>\n",
       "    </tr>\n",
       "    <tr>\n",
       "      <th>2024-05-09 00:00:00-04:00</th>\n",
       "      <td>470.000000</td>\n",
       "      <td>476.079987</td>\n",
       "      <td>467.630005</td>\n",
       "      <td>475.420013</td>\n",
       "      <td>9421500</td>\n",
       "      <td>0.0</td>\n",
       "      <td>0.0</td>\n",
       "    </tr>\n",
       "  </tbody>\n",
       "</table>\n",
       "</div>"
      ],
      "text/plain": [
       "                                 Open        High         Low       Close  \\\n",
       "Date                                                                        \n",
       "2024-05-03 00:00:00-04:00  445.929993  454.170013  443.850006  451.959991   \n",
       "2024-05-06 00:00:00-04:00  455.579987  466.160004  453.339996  465.679993   \n",
       "2024-05-07 00:00:00-04:00  466.290009  471.529999  461.309998  468.239990   \n",
       "2024-05-08 00:00:00-04:00  463.500000  475.579987  463.000000  472.600006   \n",
       "2024-05-09 00:00:00-04:00  470.000000  476.079987  467.630005  475.420013   \n",
       "\n",
       "                             Volume  Dividends  Stock Splits  \n",
       "Date                                                          \n",
       "2024-05-03 00:00:00-04:00  16489100        0.0           0.0  \n",
       "2024-05-06 00:00:00-04:00  15094600        0.0           0.0  \n",
       "2024-05-07 00:00:00-04:00  13406800        0.0           0.0  \n",
       "2024-05-08 00:00:00-04:00  11683900        0.0           0.0  \n",
       "2024-05-09 00:00:00-04:00   9421500        0.0           0.0  "
      ]
     },
     "execution_count": 6,
     "metadata": {},
     "output_type": "execute_result"
    }
   ],
   "source": [
    "df.tail()"
   ]
  },
  {
   "cell_type": "code",
   "execution_count": 7,
   "metadata": {},
   "outputs": [
    {
     "name": "stdout",
     "output_type": "stream",
     "text": [
      "<class 'pandas.core.frame.DataFrame'>\n",
      "DatetimeIndex: 3013 entries, 2012-05-18 00:00:00-04:00 to 2024-05-09 00:00:00-04:00\n",
      "Data columns (total 7 columns):\n",
      " #   Column        Non-Null Count  Dtype  \n",
      "---  ------        --------------  -----  \n",
      " 0   Open          3013 non-null   float64\n",
      " 1   High          3013 non-null   float64\n",
      " 2   Low           3013 non-null   float64\n",
      " 3   Close         3013 non-null   float64\n",
      " 4   Volume        3013 non-null   int64  \n",
      " 5   Dividends     3013 non-null   float64\n",
      " 6   Stock Splits  3013 non-null   float64\n",
      "dtypes: float64(6), int64(1)\n",
      "memory usage: 188.3 KB\n"
     ]
    }
   ],
   "source": [
    "df.info()"
   ]
  },
  {
   "cell_type": "code",
   "execution_count": 8,
   "metadata": {},
   "outputs": [
    {
     "data": {
      "text/plain": [
       "<Axes: xlabel='Date'>"
      ]
     },
     "execution_count": 8,
     "metadata": {},
     "output_type": "execute_result"
    },
    {
     "data": {
      "image/png": "[encoded data removed]",
      "text/plain": [
       "<Figure size 640x480 with 1 Axes>"
      ]
     },
     "metadata": {},
     "output_type": "display_data"
    }
   ],
   "source": [
    "df.plot()"
   ]
  },
  {
   "cell_type": "code",
   "execution_count": 9,
   "metadata": {},
   "outputs": [
    {
     "data": {
      "text/plain": [
       "<Axes: xlabel='Date'>"
      ]
     },
     "execution_count": 9,
     "metadata": {},
     "output_type": "execute_result"
    },
    {
     "data": {
      "image/png": "[encoded data removed]",
      "text/plain": [
       "<Figure size 640x480 with 1 Axes>"
      ]
     },
     "metadata": {},
     "output_type": "display_data"
    }
   ],
   "source": [
    "dfw = df.Close\n",
    "dfw.plot()"
   ]
  },
  {
   "cell_type": "code",
   "execution_count": 10,
   "metadata": {},
   "outputs": [
    {
     "data": {
      "text/plain": [
       "<Axes: xlabel='Date'>"
      ]
     },
     "execution_count": 10,
     "metadata": {},
     "output_type": "execute_result"
    },
    {
     "data": {
      "image/png": "[encoded data removed]",
      "text/plain": [
       "<Figure size 640x480 with 1 Axes>"
      ]
     },
     "metadata": {},
     "output_type": "display_data"
    }
   ],
   "source": [
    "df_ma100 = dfw.rolling(100).mean()\n",
    "df_ma200 = dfw.rolling(200).mean()\n",
    "\n",
    "dfw.plot(legend=True)\n",
    "df_ma100.plot(label='100', legend=True)\n",
    "df_ma200.plot(label='200', legend=True)"
   ]
  },
  {
   "cell_type": "code",
   "execution_count": 11,
   "metadata": {},
   "outputs": [
    {
     "data": {
      "text/plain": [
       "((3013,), (2109, 1), (602, 1), (302, 1))"
      ]
     },
     "execution_count": 11,
     "metadata": {},
     "output_type": "execute_result"
    }
   ],
   "source": [
    "n = len(dfw)\n",
    "df_training = pd.DataFrame(dfw[0:int(n*0.70)])\n",
    "df_validating = pd.DataFrame(dfw[int(n*0.70):int(n*0.90)])\n",
    "df_testing = pd.DataFrame(dfw[int(n*0.9):])\n",
    "\n",
    "dfw.shape, df_training.shape, df_validating.shape, df_testing.shape"
   ]
  },
  {
   "cell_type": "code",
   "execution_count": 12,
   "metadata": {},
   "outputs": [
    {
     "data": {
      "text/html": [
       "<div>\n",
       "<style scoped>\n",
       "    .dataframe tbody tr th:only-of-type {\n",
       "        vertical-align: middle;\n",
       "    }\n",
       "\n",
       "    .dataframe tbody tr th {\n",
       "        vertical-align: top;\n",
       "    }\n",
       "\n",
       "    .dataframe thead th {\n",
       "        text-align: right;\n",
       "    }\n",
       "</style>\n",
       "<table border=\"1\" class=\"dataframe\">\n",
       "  <thead>\n",
       "    <tr style=\"text-align: right;\">\n",
       "      <th></th>\n",
       "      <th>Close</th>\n",
       "    </tr>\n",
       "    <tr>\n",
       "      <th>Date</th>\n",
       "      <th></th>\n",
       "    </tr>\n",
       "  </thead>\n",
       "  <tbody>\n",
       "    <tr>\n",
       "      <th>2012-05-18 00:00:00-04:00</th>\n",
       "      <td>38.189480</td>\n",
       "    </tr>\n",
       "    <tr>\n",
       "      <th>2012-05-21 00:00:00-04:00</th>\n",
       "      <td>33.993931</td>\n",
       "    </tr>\n",
       "    <tr>\n",
       "      <th>2012-05-22 00:00:00-04:00</th>\n",
       "      <td>30.967144</td>\n",
       "    </tr>\n",
       "    <tr>\n",
       "      <th>2012-05-23 00:00:00-04:00</th>\n",
       "      <td>31.966084</td>\n",
       "    </tr>\n",
       "    <tr>\n",
       "      <th>2012-05-24 00:00:00-04:00</th>\n",
       "      <td>32.994991</td>\n",
       "    </tr>\n",
       "  </tbody>\n",
       "</table>\n",
       "</div>"
      ],
      "text/plain": [
       "                               Close\n",
       "Date                                \n",
       "2012-05-18 00:00:00-04:00  38.189480\n",
       "2012-05-21 00:00:00-04:00  33.993931\n",
       "2012-05-22 00:00:00-04:00  30.967144\n",
       "2012-05-23 00:00:00-04:00  31.966084\n",
       "2012-05-24 00:00:00-04:00  32.994991"
      ]
     },
     "execution_count": 12,
     "metadata": {},
     "output_type": "execute_result"
    }
   ],
   "source": [
    "df_training.head()"
   ]
  },
  {
   "cell_type": "code",
   "execution_count": 13,
   "metadata": {},
   "outputs": [
    {
     "data": {
      "text/html": [
       "<div>\n",
       "<style scoped>\n",
       "    .dataframe tbody tr th:only-of-type {\n",
       "        vertical-align: middle;\n",
       "    }\n",
       "\n",
       "    .dataframe tbody tr th {\n",
       "        vertical-align: top;\n",
       "    }\n",
       "\n",
       "    .dataframe thead th {\n",
       "        text-align: right;\n",
       "    }\n",
       "</style>\n",
       "<table border=\"1\" class=\"dataframe\">\n",
       "  <thead>\n",
       "    <tr style=\"text-align: right;\">\n",
       "      <th></th>\n",
       "      <th>Close</th>\n",
       "    </tr>\n",
       "    <tr>\n",
       "      <th>Date</th>\n",
       "      <th></th>\n",
       "    </tr>\n",
       "  </thead>\n",
       "  <tbody>\n",
       "    <tr>\n",
       "      <th>2020-10-06 00:00:00-04:00</th>\n",
       "      <td>258.385864</td>\n",
       "    </tr>\n",
       "    <tr>\n",
       "      <th>2020-10-07 00:00:00-04:00</th>\n",
       "      <td>257.846405</td>\n",
       "    </tr>\n",
       "    <tr>\n",
       "      <th>2020-10-08 00:00:00-04:00</th>\n",
       "      <td>263.480438</td>\n",
       "    </tr>\n",
       "    <tr>\n",
       "      <th>2020-10-09 00:00:00-04:00</th>\n",
       "      <td>264.169739</td>\n",
       "    </tr>\n",
       "    <tr>\n",
       "      <th>2020-10-12 00:00:00-04:00</th>\n",
       "      <td>275.457733</td>\n",
       "    </tr>\n",
       "  </tbody>\n",
       "</table>\n",
       "</div>"
      ],
      "text/plain": [
       "                                Close\n",
       "Date                                 \n",
       "2020-10-06 00:00:00-04:00  258.385864\n",
       "2020-10-07 00:00:00-04:00  257.846405\n",
       "2020-10-08 00:00:00-04:00  263.480438\n",
       "2020-10-09 00:00:00-04:00  264.169739\n",
       "2020-10-12 00:00:00-04:00  275.457733"
      ]
     },
     "execution_count": 13,
     "metadata": {},
     "output_type": "execute_result"
    }
   ],
   "source": [
    "df_validating.head()"
   ]
  },
  {
   "cell_type": "code",
   "execution_count": 14,
   "metadata": {},
   "outputs": [
    {
     "data": {
      "text/html": [
       "<div>\n",
       "<style scoped>\n",
       "    .dataframe tbody tr th:only-of-type {\n",
       "        vertical-align: middle;\n",
       "    }\n",
       "\n",
       "    .dataframe tbody tr th {\n",
       "        vertical-align: top;\n",
       "    }\n",
       "\n",
       "    .dataframe thead th {\n",
       "        text-align: right;\n",
       "    }\n",
       "</style>\n",
       "<table border=\"1\" class=\"dataframe\">\n",
       "  <thead>\n",
       "    <tr style=\"text-align: right;\">\n",
       "      <th></th>\n",
       "      <th>Close</th>\n",
       "    </tr>\n",
       "    <tr>\n",
       "      <th>Date</th>\n",
       "      <th></th>\n",
       "    </tr>\n",
       "  </thead>\n",
       "  <tbody>\n",
       "    <tr>\n",
       "      <th>2023-02-28 00:00:00-05:00</th>\n",
       "      <td>174.754593</td>\n",
       "    </tr>\n",
       "    <tr>\n",
       "      <th>2023-03-01 00:00:00-05:00</th>\n",
       "      <td>173.236191</td>\n",
       "    </tr>\n",
       "    <tr>\n",
       "      <th>2023-03-02 00:00:00-05:00</th>\n",
       "      <td>174.345016</td>\n",
       "    </tr>\n",
       "    <tr>\n",
       "      <th>2023-03-03 00:00:00-05:00</th>\n",
       "      <td>185.053650</td>\n",
       "    </tr>\n",
       "    <tr>\n",
       "      <th>2023-03-06 00:00:00-05:00</th>\n",
       "      <td>184.704025</td>\n",
       "    </tr>\n",
       "  </tbody>\n",
       "</table>\n",
       "</div>"
      ],
      "text/plain": [
       "                                Close\n",
       "Date                                 \n",
       "2023-02-28 00:00:00-05:00  174.754593\n",
       "2023-03-01 00:00:00-05:00  173.236191\n",
       "2023-03-02 00:00:00-05:00  174.345016\n",
       "2023-03-03 00:00:00-05:00  185.053650\n",
       "2023-03-06 00:00:00-05:00  184.704025"
      ]
     },
     "execution_count": 14,
     "metadata": {},
     "output_type": "execute_result"
    }
   ],
   "source": [
    "df_testing.head()"
   ]
  },
  {
   "cell_type": "code",
   "execution_count": 15,
   "metadata": {},
   "outputs": [],
   "source": [
    "from sklearn.preprocessing import MinMaxScaler\n",
    "\n",
    "scaler = MinMaxScaler(feature_range=(0, 1))"
   ]
  },
  {
   "cell_type": "code",
   "execution_count": 16,
   "metadata": {},
   "outputs": [
    {
     "data": {
      "text/plain": [
       "array([[0.07163323],\n",
       "       [0.05695715],\n",
       "       [0.04636942],\n",
       "       ...,\n",
       "       [0.86973237],\n",
       "       [0.84635543],\n",
       "       [0.86281363]])"
      ]
     },
     "execution_count": 16,
     "metadata": {},
     "output_type": "execute_result"
    }
   ],
   "source": [
    "data_training = scaler.fit_transform(df_training)\n",
    "data_training"
   ]
  },
  {
   "cell_type": "code",
   "execution_count": 17,
   "metadata": {},
   "outputs": [
    {
     "data": {
      "text/plain": [
       "((2009, 100, 1), (2009,))"
      ]
     },
     "execution_count": 17,
     "metadata": {},
     "output_type": "execute_result"
    }
   ],
   "source": [
    "x_train = []\n",
    "y_train = []\n",
    "\n",
    "for i in range(100, data_training.shape[0]):\n",
    "    x_train.append(data_training[i-100:i])\n",
    "    y_train.append(data_training[i, 0])\n",
    "\n",
    "\n",
    "x_train, y_train\n",
    "x_train, y_train = np.array(x_train), np.array(y_train)\n",
    "x_train.shape, y_train.shape"
   ]
  },
  {
   "cell_type": "code",
   "execution_count": 19,
   "metadata": {},
   "outputs": [
    {
     "name": "stderr",
     "output_type": "stream",
     "text": [
      "/home/goke/.local/lib/python3.10/site-packages/keras/src/layers/rnn/rnn.py:205: UserWarning: Do not pass an `input_shape`/`input_dim` argument to a layer. When using Sequential models, prefer using an `Input(shape)` object as the first layer in the model instead.\n",
      "  super().__init__(**kwargs)\n"
     ]
    }
   ],
   "source": [
    "n_input = x_train.shape[1]\n",
    "n_features = 1\n",
    "\n",
    "linear = tf.keras.Sequential([\n",
    "    tf.keras.layers.LSTM(50, activation='relu',\n",
    "                         input_shape=(n_input, n_features)),\n",
    "    tf.keras.layers.Dropout(0.2),\n",
    "\n",
    "    tf.keras.layers.LSTM(units=60, activation='relu', return_sequences=True),\n",
    "    tf.keras.layers.Dropout(0.3),\n",
    "\n",
    "    tf.keras.layers.LSTM(units=80, activation='relu', return_sequences=True),\n",
    "    tf.keras.layers.Dropout(0.4),\n",
    "\n",
    "    tf.keras.layers.LSTM(units=120, activation='relu'),\n",
    "    tf.keras.layers.Dropout(0.5),\n",
    "    \n",
    "    tf.keras.layers.Dense(units=1)\n",
    "])"
   ]
  },
  {
   "cell_type": "code",
   "execution_count": 20,
   "metadata": {},
   "outputs": [
    {
     "data": {
      "text/html": [
       "<pre style=\"white-space:pre;overflow-x:auto;line-height:normal;font-family:Menlo,'DejaVu Sans Mono',consolas,'Courier New',monospace\"><span style=\"font-weight: bold\">Model: \"sequential_1\"</span>\n",
       "</pre>\n"
      ],
      "text/plain": [
       "\u001b[1mModel: \"sequential_1\"\u001b[0m\n"
      ]
     },
     "metadata": {},
     "output_type": "display_data"
    },
    {
     "data": {
      "text/html": [
       "<pre style=\"white-space:pre;overflow-x:auto;line-height:normal;font-family:Menlo,'DejaVu Sans Mono',consolas,'Courier New',monospace\">┏━━━━━━━━━━━━━━━━━━━━━━━━━━━━━━━━━┳━━━━━━━━━━━━━━━━━━━━━━━━┳━━━━━━━━━━━━━━━┓\n",
       "┃<span style=\"font-weight: bold\"> Layer (type)                    </span>┃<span style=\"font-weight: bold\"> Output Shape           </span>┃<span style=\"font-weight: bold\">       Param # </span>┃\n",
       "┡━━━━━━━━━━━━━━━━━━━━━━━━━━━━━━━━━╇━━━━━━━━━━━━━━━━━━━━━━━━╇━━━━━━━━━━━━━━━┩\n",
       "│ lstm (<span style=\"color: #0087ff; text-decoration-color: #0087ff\">LSTM</span>)                     │ (<span style=\"color: #00d7ff; text-decoration-color: #00d7ff\">None</span>, <span style=\"color: #00af00; text-decoration-color: #00af00\">100</span>)            │        <span style=\"color: #00af00; text-decoration-color: #00af00\">40,800</span> │\n",
       "├─────────────────────────────────┼────────────────────────┼───────────────┤\n",
       "│ dense_1 (<span style=\"color: #0087ff; text-decoration-color: #0087ff\">Dense</span>)                 │ (<span style=\"color: #00d7ff; text-decoration-color: #00d7ff\">None</span>, <span style=\"color: #00af00; text-decoration-color: #00af00\">1</span>)              │           <span style=\"color: #00af00; text-decoration-color: #00af00\">101</span> │\n",
       "└─────────────────────────────────┴────────────────────────┴───────────────┘\n",
       "</pre>\n"
      ],
      "text/plain": [
       "┏━━━━━━━━━━━━━━━━━━━━━━━━━━━━━━━━━┳━━━━━━━━━━━━━━━━━━━━━━━━┳━━━━━━━━━━━━━━━┓\n",
       "┃\u001b[1m \u001b[0m\u001b[1mLayer (type)                   \u001b[0m\u001b[1m \u001b[0m┃\u001b[1m \u001b[0m\u001b[1mOutput Shape          \u001b[0m\u001b[1m \u001b[0m┃\u001b[1m \u001b[0m\u001b[1m      Param #\u001b[0m\u001b[1m \u001b[0m┃\n",
       "┡━━━━━━━━━━━━━━━━━━━━━━━━━━━━━━━━━╇━━━━━━━━━━━━━━━━━━━━━━━━╇━━━━━━━━━━━━━━━┩\n",
       "│ lstm (\u001b[38;5;33mLSTM\u001b[0m)                     │ (\u001b[38;5;45mNone\u001b[0m, \u001b[38;5;34m100\u001b[0m)            │        \u001b[38;5;34m40,800\u001b[0m │\n",
       "├─────────────────────────────────┼────────────────────────┼───────────────┤\n",
       "│ dense_1 (\u001b[38;5;33mDense\u001b[0m)                 │ (\u001b[38;5;45mNone\u001b[0m, \u001b[38;5;34m1\u001b[0m)              │           \u001b[38;5;34m101\u001b[0m │\n",
       "└─────────────────────────────────┴────────────────────────┴───────────────┘\n"
      ]
     },
     "metadata": {},
     "output_type": "display_data"
    },
    {
     "data": {
      "text/html": [
       "<pre style=\"white-space:pre;overflow-x:auto;line-height:normal;font-family:Menlo,'DejaVu Sans Mono',consolas,'Courier New',monospace\"><span style=\"font-weight: bold\"> Total params: </span><span style=\"color: #00af00; text-decoration-color: #00af00\">40,901</span> (159.77 KB)\n",
       "</pre>\n"
      ],
      "text/plain": [
       "\u001b[1m Total params: \u001b[0m\u001b[38;5;34m40,901\u001b[0m (159.77 KB)\n"
      ]
     },
     "metadata": {},
     "output_type": "display_data"
    },
    {
     "data": {
      "text/html": [
       "<pre style=\"white-space:pre;overflow-x:auto;line-height:normal;font-family:Menlo,'DejaVu Sans Mono',consolas,'Courier New',monospace\"><span style=\"font-weight: bold\"> Trainable params: </span><span style=\"color: #00af00; text-decoration-color: #00af00\">40,901</span> (159.77 KB)\n",
       "</pre>\n"
      ],
      "text/plain": [
       "\u001b[1m Trainable params: \u001b[0m\u001b[38;5;34m40,901\u001b[0m (159.77 KB)\n"
      ]
     },
     "metadata": {},
     "output_type": "display_data"
    },
    {
     "data": {
      "text/html": [
       "<pre style=\"white-space:pre;overflow-x:auto;line-height:normal;font-family:Menlo,'DejaVu Sans Mono',consolas,'Courier New',monospace\"><span style=\"font-weight: bold\"> Non-trainable params: </span><span style=\"color: #00af00; text-decoration-color: #00af00\">0</span> (0.00 B)\n",
       "</pre>\n"
      ],
      "text/plain": [
       "\u001b[1m Non-trainable params: \u001b[0m\u001b[38;5;34m0\u001b[0m (0.00 B)\n"
      ]
     },
     "metadata": {},
     "output_type": "display_data"
    }
   ],
   "source": [
    "linear.summary()"
   ]
  },
  {
   "cell_type": "code",
   "execution_count": null,
   "metadata": {},
   "outputs": [],
   "source": []
  }
 ],
 "metadata": {
  "kernelspec": {
   "display_name": "Python 3",
   "language": "python",
   "name": "python3"
  },
  "language_info": {
   "codemirror_mode": {
    "name": "ipython",
    "version": 3
   },
   "file_extension": ".py",
   "mimetype": "text/x-python",
   "name": "python",
   "nbconvert_exporter": "python",
   "pygments_lexer": "ipython3",
   "version": "3.10.12"
  }
 },
 "nbformat": 4,
 "nbformat_minor": 2
}
